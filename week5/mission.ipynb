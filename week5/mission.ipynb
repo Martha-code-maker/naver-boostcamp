{
 "cells": [
  {
   "cell_type": "code",
   "execution_count": 1,
   "metadata": {},
   "outputs": [],
   "source": [
    "#Q1\n",
    "import torch\n",
    "import torch.nn as nn\n",
    "import torchvision.datasets as dset\n",
    "import torchvision.transforms as transforms\n",
    "from torch.utils.data import DataLoader\n",
    "\n",
    "training_epochs = 15\n",
    "batch_size = 100\n",
    "\n",
    "root = '.\\data'\n",
    "mnist_train = dset.MNIST(root=root, train=True, transform = transforms.ToTensor(), download = True)\n",
    "mnist_test = dset.MNIST(root = root, train = False, transform = transforms.ToTensor(), download = True)\n",
    "\n",
    "train_loader = DataLoader(mnist_train, batch_size = batch_size, shuffle = True)\n",
    "test_loader = DataLoader(mnist_test, batch_size = batch_size, shuffle = False)\n",
    "\n",
    "#Q2\n",
    "device = torch.device('cuda' if torch.cuda.is_available() else 'cpu')\n",
    "linear = torch.nn.Linear(784,10,bias=True).to(device)\n",
    "torch.nn.init.normal_(linear.weight)\n",
    "\n",
    "#Q3\n",
    "criterion = torch.nn.CrossEntropyLoss().to(device)\n",
    "optimizer = torch.optim.SGD(linear.parameters(), lr = 0.1)"
   ]
  },
  {
   "cell_type": "code",
   "execution_count": null,
   "metadata": {},
   "outputs": [
    {
     "name": "stdout",
     "output_type": "stream",
     "text": [
      "Epoch [1/15], Step [100/600], Loss: 3.5768, Accuracy: 43.00%\n",
      "Epoch [1/15], Step [200/600], Loss: 2.3199, Accuracy: 56.00%\n",
      "Epoch [1/15], Step [300/600], Loss: 1.5765, Accuracy: 68.00%\n",
      "Epoch [1/15], Step [400/600], Loss: 1.2336, Accuracy: 74.00%\n",
      "Epoch [1/15], Step [500/600], Loss: 1.1127, Accuracy: 76.00%\n",
      "Epoch [1/15], Step [600/600], Loss: 1.2722, Accuracy: 75.00%\n"
     ]
    }
   ],
   "source": [
    "for epoch in range(training_epochs):\n",
    "    for i,(imgs, labels) in enumerate(train_loader):\n",
    "        imgs, labels = imgs.to(device), labels.to(device)\n",
    "        imgs = imgs.view(-1,28*28)\n",
    "        \n",
    "        outputs = linear(imgs)\n",
    "        loss = criterion(outputs, labels)\n",
    "        \n",
    "        optimizer.zero_grad()\n",
    "        loss.backward()\n",
    "        optimizer.step()\n",
    "        \n",
    "        _,argmax = torch.max(outputs,1)\n",
    "        accuracy = (labels ==argmax).float().mean()\n",
    "        \n",
    "        if (i+1)%100 ==0:\n",
    "            print(\"Epoch [{}/{}], Step [{}/{}], Loss: {:.4f}, Accuracy: {:.2f}%\".format(\n",
    "                epoch+1, training_epochs, i+1, len(train_loader), loss.item(), accuracy.item()*100))"
   ]
  },
  {
   "cell_type": "code",
   "execution_count": null,
   "metadata": {},
   "outputs": [],
   "source": [
    "linear.eval()\n",
    "with torch.no_grad():\n",
    "    correct = 0\n",
    "    total = 0\n",
    "    for i, (imgs, labels) in enumerate(test_loader):\n",
    "        imgs,labels = imgs.to(device), labels.to(device)\n",
    "        imgs = imgs.view(-1,28*28)\n",
    "        \n",
    "        outputs = linear(imgs)\n",
    "        _, argmax = torch.max(outputs, 1)\n",
    "        total += imgs.size(0)\n",
    "        correct += (labels == argmax).sum().item()\n",
    "        \n",
    "        print('Test accuracy for {} images: {:.2f}%'.format(total, correct / total * 100))"
   ]
  },
  {
   "cell_type": "code",
   "execution_count": null,
   "metadata": {},
   "outputs": [],
   "source": []
  }
 ],
 "metadata": {
  "kernelspec": {
   "display_name": "Python 3",
   "language": "python",
   "name": "python3"
  },
  "language_info": {
   "codemirror_mode": {
    "name": "ipython",
    "version": 3
   },
   "file_extension": ".py",
   "mimetype": "text/x-python",
   "name": "python",
   "nbconvert_exporter": "python",
   "pygments_lexer": "ipython3",
   "version": "3.6.7"
  }
 },
 "nbformat": 4,
 "nbformat_minor": 2
}
